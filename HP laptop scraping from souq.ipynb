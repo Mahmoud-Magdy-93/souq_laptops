{
 "cells": [
  {
   "cell_type": "code",
   "execution_count": 1,
   "metadata": {},
   "outputs": [],
   "source": [
    "import pandas as pd\n",
    "import requests\n",
    "from bs4 import BeautifulSoup \n",
    "import numpy as np\n",
    "import csv\n",
    "from time import sleep\n",
    "from random import randint"
   ]
  },
  {
   "cell_type": "code",
   "execution_count": 68,
   "metadata": {},
   "outputs": [],
   "source": [
    "headers = dict()\n",
    "headers[\"User-Agent\"] = \"Mozilla/5.0 (Windows NT 10.0; Win64; x64) AppleWebKit/537.36 (KHTML, like Gecko) Chrome/74.0.3729.169 Safari/537.36\"\n",
    "titles=[]\n",
    "hards=[]\n",
    "prices=[]\n",
    "spec=[]\n",
    "oper_sys=[]\n",
    "processor_family=[]\n",
    "screen_size=[]\n",
    "pages=np.arange(1,21)\n",
    "for page in pages:\n",
    "    url = 'https://egypt.souq.com/eg-en/laptops/laptops---and---notebooks-75/hp/a-t-7/s/?page='+str(page)\n",
    "    results=requests.get(url,headers=headers)\n",
    "    soup = BeautifulSoup(results.text, \"lxml\")\n",
    "    section=soup.find_all('div',class_='column column-block block-list-large single-item')\n",
    "    sleep(randint(2, 10))\n",
    "    for lap in section:\n",
    "        name=lap.find('h1',class_='itemTitle').text.strip()\n",
    "        titles.append(name)\n",
    "        try:\n",
    "             h=lap.find('a',class_='sk-clr2 changeVariance is-active').text.strip()\n",
    "        except:\n",
    "            h=''\n",
    "        hards.append(h)\n",
    "        price=lap.find('h3',class_='itemPrice').text.strip()\n",
    "        prices.append(price)\n",
    "        prop = soup.find('ul',class_='selling-points').text.strip().split('\\n')\n",
    "        oper_sys.append(prop[0][17:])\n",
    "        processor_family.append(prop[2][17:])\n",
    "        screen_size.append(prop[3][12:])\n",
    "                \n",
    "               \n",
    "                \n",
    "        \n",
    "        \n",
    "\n",
    "        "
   ]
  },
  {
   "cell_type": "code",
   "execution_count": 69,
   "metadata": {},
   "outputs": [
    {
     "data": {
      "text/html": [
       "<div>\n",
       "<style scoped>\n",
       "    .dataframe tbody tr th:only-of-type {\n",
       "        vertical-align: middle;\n",
       "    }\n",
       "\n",
       "    .dataframe tbody tr th {\n",
       "        vertical-align: top;\n",
       "    }\n",
       "\n",
       "    .dataframe thead th {\n",
       "        text-align: right;\n",
       "    }\n",
       "</style>\n",
       "<table border=\"1\" class=\"dataframe\">\n",
       "  <thead>\n",
       "    <tr style=\"text-align: right;\">\n",
       "      <th></th>\n",
       "      <th>Description</th>\n",
       "      <th>Hard capacity</th>\n",
       "      <th>Price</th>\n",
       "      <th>Operating system</th>\n",
       "      <th>Processor family</th>\n",
       "      <th>Screen size</th>\n",
       "    </tr>\n",
       "  </thead>\n",
       "  <tbody>\n",
       "    <tr>\n",
       "      <th>0</th>\n",
       "      <td>HP 15s-eq1015ne Laptop - AMD Ryzen 3-3250U, 8G...</td>\n",
       "      <td>512 GB</td>\n",
       "      <td>7,555.00 EGP</td>\n",
       "      <td>dos</td>\n",
       "      <td>amd ryzen</td>\n",
       "      <td>15 - 15.9 inches</td>\n",
       "    </tr>\n",
       "    <tr>\n",
       "      <th>1</th>\n",
       "      <td>HP Pavilion 15-ec1009nia Gaming Laptop - Ryzen...</td>\n",
       "      <td>1.256 TB</td>\n",
       "      <td>19,299.00 EGP</td>\n",
       "      <td>dos</td>\n",
       "      <td>amd ryzen</td>\n",
       "      <td>15 - 15.9 inches</td>\n",
       "    </tr>\n",
       "    <tr>\n",
       "      <th>2</th>\n",
       "      <td>HP Pavilion 15-dk0096wm Gaming laptop - Intel ...</td>\n",
       "      <td>256 GB</td>\n",
       "      <td>12,999.00 EGP</td>\n",
       "      <td>dos</td>\n",
       "      <td>amd ryzen</td>\n",
       "      <td>15 - 15.9 inches</td>\n",
       "    </tr>\n",
       "    <tr>\n",
       "      <th>3</th>\n",
       "      <td>Hp 15-GW0056nia Laptop - Athlon 3150U, 4GB RAM...</td>\n",
       "      <td>1 TB</td>\n",
       "      <td>6,299.00 EGP</td>\n",
       "      <td>dos</td>\n",
       "      <td>amd ryzen</td>\n",
       "      <td>15 - 15.9 inches</td>\n",
       "    </tr>\n",
       "    <tr>\n",
       "      <th>4</th>\n",
       "      <td>HP ENVY x360 Convertible 13m-bd0023dx 2-in-1 L...</td>\n",
       "      <td>512 GB</td>\n",
       "      <td>16,555.00 EGP</td>\n",
       "      <td>dos</td>\n",
       "      <td>amd ryzen</td>\n",
       "      <td>15 - 15.9 inches</td>\n",
       "    </tr>\n",
       "  </tbody>\n",
       "</table>\n",
       "</div>"
      ],
      "text/plain": [
       "                                         Description Hard capacity  \\\n",
       "0  HP 15s-eq1015ne Laptop - AMD Ryzen 3-3250U, 8G...        512 GB   \n",
       "1  HP Pavilion 15-ec1009nia Gaming Laptop - Ryzen...      1.256 TB   \n",
       "2  HP Pavilion 15-dk0096wm Gaming laptop - Intel ...        256 GB   \n",
       "3  Hp 15-GW0056nia Laptop - Athlon 3150U, 4GB RAM...          1 TB   \n",
       "4  HP ENVY x360 Convertible 13m-bd0023dx 2-in-1 L...        512 GB   \n",
       "\n",
       "           Price Operating system Processor family        Screen size  \n",
       "0   7,555.00 EGP              dos        amd ryzen   15 - 15.9 inches  \n",
       "1  19,299.00 EGP              dos        amd ryzen   15 - 15.9 inches  \n",
       "2  12,999.00 EGP              dos        amd ryzen   15 - 15.9 inches  \n",
       "3   6,299.00 EGP              dos        amd ryzen   15 - 15.9 inches  \n",
       "4  16,555.00 EGP              dos        amd ryzen   15 - 15.9 inches  "
      ]
     },
     "execution_count": 69,
     "metadata": {},
     "output_type": "execute_result"
    }
   ],
   "source": [
    "lists=[titles,hards,prices,oper_sys,processor_family,screen_size]\n",
    "df=pd.DataFrame(lists).transpose()\n",
    "df.columns=['Description','Hard capacity','Price','Operating system','Processor family','Screen size']\n",
    "df.head()"
   ]
  },
  {
   "cell_type": "code",
   "execution_count": 70,
   "metadata": {
    "scrolled": true
   },
   "outputs": [
    {
     "name": "stdout",
     "output_type": "stream",
     "text": [
      "<class 'pandas.core.frame.DataFrame'>\n",
      "RangeIndex: 600 entries, 0 to 599\n",
      "Data columns (total 6 columns):\n",
      " #   Column            Non-Null Count  Dtype \n",
      "---  ------            --------------  ----- \n",
      " 0   Description       600 non-null    object\n",
      " 1   Hard capacity     600 non-null    object\n",
      " 2   Price             600 non-null    object\n",
      " 3   Operating system  600 non-null    object\n",
      " 4   Processor family  600 non-null    object\n",
      " 5   Screen size       600 non-null    object\n",
      "dtypes: object(6)\n",
      "memory usage: 28.2+ KB\n"
     ]
    }
   ],
   "source": [
    "df.info()"
   ]
  },
  {
   "cell_type": "code",
   "execution_count": 72,
   "metadata": {},
   "outputs": [],
   "source": [
    "df.to_csv(r'C:\\Users\\Workstation\\Desktop\\python\\project for practicing\\HP laptop.csv',index=False)"
   ]
  },
  {
   "cell_type": "code",
   "execution_count": null,
   "metadata": {},
   "outputs": [],
   "source": []
  }
 ],
 "metadata": {
  "kernelspec": {
   "display_name": "Python 3",
   "language": "python",
   "name": "python3"
  },
  "language_info": {
   "codemirror_mode": {
    "name": "ipython",
    "version": 3
   },
   "file_extension": ".py",
   "mimetype": "text/x-python",
   "name": "python",
   "nbconvert_exporter": "python",
   "pygments_lexer": "ipython3",
   "version": "3.8.5"
  }
 },
 "nbformat": 4,
 "nbformat_minor": 4
}
